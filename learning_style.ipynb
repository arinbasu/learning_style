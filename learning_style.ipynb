{
 "cells": [
  {
   "cell_type": "markdown",
   "metadata": {},
   "source": [
    "# Summary of Learning Style Literature\n",
    "\n",
    "The purpose of this paper is to summarise the literature around learning styles. \n",
    "\n",
    "## What is learning style?\n",
    "\n",
    "\n",
    "## What is the difference between learning styles and preferences?\n",
    "\n",
    "\n",
    "## How do people measure learning styles and preferences?\n",
    "\n",
    "## What are the psychometric properties of these tools?"
   ]
  },
  {
   "cell_type": "markdown",
   "metadata": {},
   "source": [
    "## Tables of the psychometric properties of the learning style tools\n",
    "\n",
    "| Tool or Questionnaire | Estimates | Author (YYYY) |\n",
    "|---------------------- |-----------|--------       |\n"
   ]
  }
 ],
 "metadata": {
  "kernelspec": {
   "display_name": "R",
   "language": "R",
   "name": "ir"
  },
  "language_info": {
   "codemirror_mode": "r",
   "file_extension": ".r",
   "mimetype": "text/x-r-source",
   "name": "R",
   "pygments_lexer": "r",
   "version": "3.3.0"
  }
 },
 "nbformat": 4,
 "nbformat_minor": 0
}
